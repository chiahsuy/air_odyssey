{
 "cells": [
  {
   "cell_type": "code",
   "execution_count": 1,
   "metadata": {
    "id": "1S0WRIqbSKC7"
   },
   "outputs": [],
   "source": [
    "import modules\n",
    "#import from modules"
   ]
  },
  {
   "cell_type": "code",
   "execution_count": 2,
   "metadata": {
    "id": "KWBCdzJBdI4X"
   },
   "outputs": [],
   "source": [
    "import dill\n",
    "with open('tree_cancel_model.pkl', 'rb') as file:\n",
    "  treeprob_cancel = dill.load(file)\n",
    "\n",
    "with open('tree_cancel_outlier.pkl', 'rb') as file:\n",
    "  tree_outlier = dill.load(file)\n",
    "\n",
    "with open('tree_delay_model.pkl', 'rb') as file:\n",
    "  tree_delay = dill.load(file)\n",
    "\n",
    "with open('linresd_model1_delay_model.pkl', 'rb') as file:\n",
    "  linresd_model_delay = dill.load(file)"
   ]
  },
  {
   "cell_type": "markdown",
   "metadata": {
    "id": "WCXeKeHJlCCv"
   },
   "source": [
    "### Create test data\n",
    "\n",
    "There are 37 columns needed for each entry (i.e., flight):\n",
    "1. Scheduled Departure Date Time (e.g., '2022-04-04 08:55:00')\n",
    "2. Scheduled arrival Date Time (e.g., ''2022-04-04 10:00:00')\n",
    "3. Carrier (e.g., , 'UA')\n",
    "4. Departure Airport (Origin) (e.g., 'IAD')\n",
    "5. Arrival Airport (Destination) (e.g., 'HSV')\n",
    "6. Longitude of Origin (e.g., -77.4473)\n",
    "7. Latitude of Origin (e.g., 38.9348)\n",
    "8. Temperature of Origin at Scheduled Departure Time (degree F) (e.g., 36.0)\n",
    "9. Dew point (degree F) (e.g., 24.1)\n",
    "10. Relative humidity (e.g., 61.62)\n",
    "11. Wind Direction (e.g., 0.0)\n",
    "12. Wind speed (e.g., 0.0)\n",
    "13. Visibility (e.g., 10.0)\n",
    "14. Gust (e.g., 0.0)\n",
    "15. Sky Coverage (clear: 0, few: 1, scattered: 2, broken: 3, overcasting: 4)\n",
    "16. Mist (0: none, 1: light, 2: moderate, 3: heavy)\n",
    "17. Blowing (0: none, 1: light, 2: moderate, 3: heavy)\n",
    "18. Drifting (0: none, 1: light, 2: moderate, 3: heavy)\n",
    "19. Dust (0: none, 1: light, 2: moderate, 3: heavy)\n",
    "20. Widespread Dust (0: none, 1: light, 2: moderate, 3: heavy)\n",
    "21. Drizzle (0: none, 1: light, 2: moderate, 3: heavy)\n",
    "22. Funnel Cloud (0: none, 1: light, 2: moderate, 3: heavy)\n",
    "23. Fog (0: none, 1: light, 2: moderate, 3: heavy)\n",
    "24. Smoke (0: none, 1: light, 2: moderate, 3: heavy)\n",
    "25. Freezing (0: none, 1: light, 2: moderate, 3: heavy)\n",
    "26. Hail (0: none, 1: light, 2: moderate, 3: heavy)\n",
    "27. Small Hail (0: none, 1: light, 2: moderate, 3: heavy)\n",
    "28. Haze (0: none, 1: light, 2: moderate, 3: heavy)\n",
    "29. Ice Crystall (0: none, 1: light, 2: moderate, 3: heavy)\n",
    "30. Sleet (0: none, 1: light, 2: moderate, 3: heavy)\n",
    "31. Rain (0: none, 1: light, 2: moderate, 3: heavy)\n",
    "32. Sand (0: none, 1: light, 2: moderate, 3: heavy)\n",
    "33. Snow Grains (0: none, 1: light, 2: moderate, 3: heavy)\n",
    "34. Shower (0: none, 1: light, 2: moderate, 3: heavy)\n",
    "35. Snow (0: none, 1: light, 2: moderate, 3: heavy)\n",
    "36. Squla (0: none, 1: light, 2: moderate, 3: heavy)\n",
    "37. Thunderstorm (0: none, 1: light, 2: moderate, 3: heavy)\n"
   ]
  },
  {
   "cell_type": "code",
   "execution_count": 3,
   "metadata": {
    "colab": {
     "base_uri": "https://localhost:8080/"
    },
    "id": "ckVXjPUEeCKe",
    "outputId": "adf0f447-c9d5-4a68-c399-7b95a5a4137a"
   },
   "outputs": [
    {
     "name": "stdout",
     "output_type": "stream",
     "text": [
      "        CRSDepDateTime       CRSArrDateTime IATA_Code_Marketing_Airline  \\\n",
      "0  2022-04-04 08:55:00  2022-04-04 10:00:00                          UA   \n",
      "1  2022-03-21 20:57:00  2022-03-21 00:44:00                          AA   \n",
      "\n",
      "  Origin Dest  lon_dpt  lat_dpt  tmpf_dpt  dwpf_dpt  relh_dpt  ...  haze_dpt  \\\n",
      "0    IAD  HSV -77.4473  38.9348      36.0      24.1     61.62  ...         0   \n",
      "1    DFW  DCA -97.0380  32.8968      71.1      66.0     83.93  ...         0   \n",
      "\n",
      "   ice_crystal_dpt  sleet_dpt  rain_dpt  sand_dpt  snow_grains_dpt  \\\n",
      "0                0          0         0         0                0   \n",
      "1                0          0         0         0                0   \n",
      "\n",
      "   shower_dpt  snow_dpt  squal_dpt  thunderstorm_dpt  \n",
      "0           0         0          0                 0  \n",
      "1           0         0          0                 0  \n",
      "\n",
      "[2 rows x 37 columns]\n"
     ]
    }
   ],
   "source": [
    "# scheduled departure date time, scheduled arrival date time, carrier, origin, destination, longitude origin, latitude origin\n",
    "# temperature (degree F), dew point (degree F), relative humidity, wind direction, wind speed, visibility, gust,\n",
    "# sky coverage (clear: 0, few: 1, scattered: 2, broken: 3, overcasting: 4), \n",
    "# mist, blowing, drifting, dust, widespread dust, drizzle, funnel cloud, fog, smoke, freezing, hail, small hail, haze, \n",
    "# ice crystall, sleet, rain, sand, snow grains, shower, snow, squla, thunderstorm (0: none, 1: light, 2: moderate, 3: heavy)\n",
    "import pandas as pd\n",
    "test_lst = [['2022-04-04 08:55:00', '2022-04-04 10:00:00', 'UA', 'IAD',\t'HSV',\t-77.4473, 38.9348,\n",
    "             36.0, 24.1, 61.62, 0.0,\t0.0,\t10.0,\t0.0,\t0,\t0,\t0,\t0,\t0,\t0,\t0,\n",
    "             0,\t0,\t0,\t0,\t0,\t0,\t0,\t0,\t0,\t0,\t0,\t0,\t0,\t0,\t0,\t0\t],\n",
    "            ['2022-03-21 20:57:00',\t'2022-03-21 00:44:00',\t'AA',\t'DFW',\t'DCA',\t-97.038,\t32.8968,\n",
    "             71.1,\t66.0,\t83.93,\t150.0,\t20.0,\t10.0,\t28.0,\t4,\t0,\t0,\t0,\t0,\t0,\t0,\n",
    "             0,\t0,\t0,\t0,\t0,\t0,\t0,\t0,\t0,\t0,\t0,\t0,\t0,\t0,\t0,\t0]\n",
    "            ]\n",
    "test_col = [modules.dep_time_col] + [modules.arr_time_col] + modules.dep_cat_cols + modules.dep_num_cols\n",
    "test = pd.DataFrame(test_lst, columns = test_col)\n",
    "print(test)"
   ]
  },
  {
   "cell_type": "code",
   "execution_count": 4,
   "metadata": {
    "colab": {
     "base_uri": "https://localhost:8080/"
    },
    "id": "7WXAqsvOfDyA",
    "outputId": "1672d32d-2aa0-44ef-f924-53d1c2e1f965"
   },
   "outputs": [
    {
     "data": {
      "text/plain": [
       "array([[0.91319875, 0.08680125],\n",
       "       [0.85977448, 0.14022552]])"
      ]
     },
     "execution_count": 4,
     "metadata": {},
     "output_type": "execute_result"
    }
   ],
   "source": [
    "# probability to be canceled\n",
    "# the first column is the probabiltiy of a flight not to be canceled\n",
    "# the second column is the probabiltiy of a flight to be canceled\n",
    "treeprob_cancel.predict_proba(test)"
   ]
  },
  {
   "cell_type": "code",
   "execution_count": 5,
   "metadata": {
    "colab": {
     "base_uri": "https://localhost:8080/"
    },
    "id": "zC2Zyxlfr2eH",
    "outputId": "4d112b20-0b85-4b94-ce5f-b6636590182f"
   },
   "outputs": [
    {
     "data": {
      "text/plain": [
       "array([1, 1])"
      ]
     },
     "execution_count": 5,
     "metadata": {},
     "output_type": "execute_result"
    }
   ],
   "source": [
    "# to be canceled, as -1, or not, as 1\n",
    "tree_outlier.predict(test)"
   ]
  },
  {
   "cell_type": "code",
   "execution_count": 6,
   "metadata": {
    "colab": {
     "base_uri": "https://localhost:8080/"
    },
    "id": "sgp2pzc4dbXg",
    "outputId": "7f63f5a3-8572-482b-dead-483d00d2917f"
   },
   "outputs": [
    {
     "data": {
      "text/plain": [
       "array([10.39920094, 20.68055037])"
      ]
     },
     "execution_count": 6,
     "metadata": {},
     "output_type": "execute_result"
    }
   ],
   "source": [
    "# how long in minutes the delay could be 1st estimation\n",
    "tree_delay.predict(test)"
   ]
  },
  {
   "cell_type": "code",
   "execution_count": 7,
   "metadata": {
    "colab": {
     "base_uri": "https://localhost:8080/"
    },
    "id": "ccj8Qa-KtLqp",
    "outputId": "ed5e90b7-711b-4e42-bc39-85d324d3e96b"
   },
   "outputs": [
    {
     "data": {
      "text/plain": [
       "array([11.92424216, 34.40753241])"
      ]
     },
     "execution_count": 7,
     "metadata": {},
     "output_type": "execute_result"
    }
   ],
   "source": [
    "# how long in minutes the delay could be 2nd estimation\n",
    "linresd_model_delay.predict(test)"
   ]
  },
  {
   "cell_type": "code",
   "execution_count": null,
   "metadata": {},
   "outputs": [],
   "source": []
  }
 ],
 "metadata": {
  "colab": {
   "collapsed_sections": [],
   "name": "final.ipynb",
   "provenance": []
  },
  "kernelspec": {
   "display_name": "Python 3 (ipykernel)",
   "language": "python",
   "name": "python3"
  },
  "language_info": {
   "codemirror_mode": {
    "name": "ipython",
    "version": 3
   },
   "file_extension": ".py",
   "mimetype": "text/x-python",
   "name": "python",
   "nbconvert_exporter": "python",
   "pygments_lexer": "ipython3",
   "version": "3.9.13"
  }
 },
 "nbformat": 4,
 "nbformat_minor": 4
}
